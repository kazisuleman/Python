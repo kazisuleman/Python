{
  "cells": [
    {
      "cell_type": "code",
      "execution_count": 71,
      "id": "69cb1c02",
      "metadata": {
        "colab": {
          "base_uri": "https://localhost:8080/"
        },
        "id": "69cb1c02",
        "outputId": "99dcfe04-8701-494e-bf38-a0c07fab46ce"
      },
      "outputs": [
        {
          "name": "stdout",
          "output_type": "stream",
          "text": [
            "10\n"
          ]
        }
      ],
      "source": [
        "a = input();"
      ]
    },
    {
      "cell_type": "code",
      "source": [
        "print(a)"
      ],
      "metadata": {
        "colab": {
          "base_uri": "https://localhost:8080/"
        },
        "id": "qbH1LsvpKe8Q",
        "outputId": "89ad1a6a-b088-4648-ce0d-77518392618c"
      },
      "id": "qbH1LsvpKe8Q",
      "execution_count": 72,
      "outputs": [
        {
          "output_type": "stream",
          "name": "stdout",
          "text": [
            "10\n"
          ]
        }
      ]
    },
    {
      "cell_type": "code",
      "source": [
        "type(a)"
      ],
      "metadata": {
        "colab": {
          "base_uri": "https://localhost:8080/"
        },
        "id": "HmB7sbavMWbS",
        "outputId": "f08e1810-cb92-4e57-86da-b5aeca683765"
      },
      "id": "HmB7sbavMWbS",
      "execution_count": 73,
      "outputs": [
        {
          "output_type": "execute_result",
          "data": {
            "text/plain": [
              "str"
            ]
          },
          "metadata": {},
          "execution_count": 73
        }
      ]
    },
    {
      "cell_type": "code",
      "source": [
        "b = input();"
      ],
      "metadata": {
        "colab": {
          "base_uri": "https://localhost:8080/"
        },
        "id": "WfQNhVfHQjpV",
        "outputId": "a2b4b2e8-c597-4f57-ab5d-0124431773d1"
      },
      "id": "WfQNhVfHQjpV",
      "execution_count": 74,
      "outputs": [
        {
          "name": "stdout",
          "output_type": "stream",
          "text": [
            "20\n"
          ]
        }
      ]
    },
    {
      "cell_type": "code",
      "source": [
        "print(b)"
      ],
      "metadata": {
        "colab": {
          "base_uri": "https://localhost:8080/"
        },
        "id": "UKBVMTuJLUDJ",
        "outputId": "ba4bd13d-c6e8-42a8-dfc8-2a0202d217b1"
      },
      "id": "UKBVMTuJLUDJ",
      "execution_count": 75,
      "outputs": [
        {
          "output_type": "stream",
          "name": "stdout",
          "text": [
            "20\n"
          ]
        }
      ]
    },
    {
      "cell_type": "code",
      "source": [
        "type(b)"
      ],
      "metadata": {
        "colab": {
          "base_uri": "https://localhost:8080/"
        },
        "id": "1ZyL3gimNmAb",
        "outputId": "8b4922de-fd60-4c08-f2e5-ed8b950dbf3a"
      },
      "id": "1ZyL3gimNmAb",
      "execution_count": 76,
      "outputs": [
        {
          "output_type": "execute_result",
          "data": {
            "text/plain": [
              "str"
            ]
          },
          "metadata": {},
          "execution_count": 76
        }
      ]
    },
    {
      "cell_type": "code",
      "execution_count": 77,
      "id": "5519db02",
      "metadata": {
        "scrolled": true,
        "colab": {
          "base_uri": "https://localhost:8080/"
        },
        "id": "5519db02",
        "outputId": "497f80ae-9de8-4f9d-fb79-a819c64810ec"
      },
      "outputs": [
        {
          "output_type": "stream",
          "name": "stdout",
          "text": [
            "a is smaller than b\n"
          ]
        }
      ],
      "source": [
        "if (a < b):\n",
        "    \n",
        "    print(\"a is smaller than b\")\n",
        "\n",
        "elif (a == b):\n",
        "    print(\"a is equal to b\")\n",
        "\n",
        "else:\n",
        "    print(\"a is greater than b\")"
      ]
    },
    {
      "cell_type": "code",
      "execution_count": 77,
      "id": "7e4e5736",
      "metadata": {
        "id": "7e4e5736"
      },
      "outputs": [],
      "source": []
    }
  ],
  "metadata": {
    "kernelspec": {
      "display_name": "Python 3 (ipykernel)",
      "language": "python",
      "name": "python3"
    },
    "language_info": {
      "codemirror_mode": {
        "name": "ipython",
        "version": 3
      },
      "file_extension": ".py",
      "mimetype": "text/x-python",
      "name": "python",
      "nbconvert_exporter": "python",
      "pygments_lexer": "ipython3",
      "version": "3.9.12"
    },
    "colab": {
      "provenance": [],
      "collapsed_sections": []
    }
  },
  "nbformat": 4,
  "nbformat_minor": 5
}