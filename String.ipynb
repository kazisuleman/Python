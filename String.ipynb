{
 "cells": [
  {
   "cell_type": "code",
   "execution_count": 10,
   "id": "4dc0fc59",
   "metadata": {},
   "outputs": [
    {
     "name": "stdout",
     "output_type": "stream",
     "text": [
      "String no of counts i in string\": 3\n"
     ]
    }
   ],
   "source": [
    "string = 'Intellipat Python Training'\n",
    "a = 'Intellipat'\n",
    "b = 'Python'\n",
    "print('String no of counts i in string\":', string.count('i'))"
   ]
  },
  {
   "cell_type": "code",
   "execution_count": 12,
   "id": "5b02ae1c",
   "metadata": {},
   "outputs": [
    {
     "name": "stdout",
     "output_type": "stream",
     "text": [
      "String no of split i in string\": ['Intellipat', 'Python', 'Training']\n"
     ]
    }
   ],
   "source": [
    "print('String no of split i in string\":', string.split())"
   ]
  },
  {
   "cell_type": "code",
   "execution_count": 13,
   "id": "ca144c73",
   "metadata": {},
   "outputs": [
    {
     "data": {
      "text/plain": [
       "str"
      ]
     },
     "execution_count": 13,
     "metadata": {},
     "output_type": "execute_result"
    }
   ],
   "source": [
    "type(string)"
   ]
  },
  {
   "cell_type": "code",
   "execution_count": 21,
   "id": "84d1eb3d",
   "metadata": {},
   "outputs": [
    {
     "name": "stdout",
     "output_type": "stream",
     "text": [
      "Joining string\": Intellipat Python\n"
     ]
    }
   ],
   "source": [
    "print('Joining string\":',''.join([a,\" \",b]))"
   ]
  },
  {
   "cell_type": "code",
   "execution_count": 24,
   "id": "97ebaddc",
   "metadata": {},
   "outputs": [],
   "source": [
    "z = string.find('Python')"
   ]
  },
  {
   "cell_type": "code",
   "execution_count": 25,
   "id": "3c647a00",
   "metadata": {},
   "outputs": [
    {
     "data": {
      "text/plain": [
       "11"
      ]
     },
     "execution_count": 25,
     "metadata": {},
     "output_type": "execute_result"
    }
   ],
   "source": [
    "z"
   ]
  },
  {
   "cell_type": "code",
   "execution_count": 26,
   "id": "85da7563",
   "metadata": {},
   "outputs": [],
   "source": [
    "y = string.replace('Training','Python')"
   ]
  },
  {
   "cell_type": "code",
   "execution_count": 27,
   "id": "39bee30b",
   "metadata": {},
   "outputs": [
    {
     "data": {
      "text/plain": [
       "'Intellipat Python Python'"
      ]
     },
     "execution_count": 27,
     "metadata": {},
     "output_type": "execute_result"
    }
   ],
   "source": [
    "y"
   ]
  },
  {
   "cell_type": "code",
   "execution_count": null,
   "id": "c4f676f4",
   "metadata": {},
   "outputs": [],
   "source": []
  }
 ],
 "metadata": {
  "kernelspec": {
   "display_name": "Python 3 (ipykernel)",
   "language": "python",
   "name": "python3"
  },
  "language_info": {
   "codemirror_mode": {
    "name": "ipython",
    "version": 3
   },
   "file_extension": ".py",
   "mimetype": "text/x-python",
   "name": "python",
   "nbconvert_exporter": "python",
   "pygments_lexer": "ipython3",
   "version": "3.9.12"
  }
 },
 "nbformat": 4,
 "nbformat_minor": 5
}
