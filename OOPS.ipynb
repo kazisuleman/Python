{
 "cells": [
  {
   "cell_type": "code",
   "execution_count": 1,
   "id": "a68c575e",
   "metadata": {},
   "outputs": [
    {
     "name": "stdout",
     "output_type": "stream",
     "text": [
      "{1, 2, 3, 4, 5, 6, 7, 8, 9, 12, 78, 22, 23, 90, 33, 34, 56}\n",
      "{8, 3, 4, 5}\n",
      "{33, 34, 9, 12, 78, 23, 56, 90}\n",
      "{1, 2, 6, 7, 22}\n",
      "{33, 34, 1, 2, 9, 6, 7, 12, 78, 22, 23, 56, 90}\n",
      "{1, 2, 3, 4, 5, 6, 7, 8, 9, 12, 78, 22, 23, 90, 33, 34, 56}\n"
     ]
    }
   ],
   "source": [
    "maths = {12,34,56,78,90,23,33,56,12,8,9,3,4,5}\n",
    "history = {22,3,4,5,6,7,8,1,2,4}\n",
    "z = maths.union(history)           #adds two set.\n",
    "print(z)\n",
    "y = maths.intersection(history)    # output only common elements\n",
    "print(y)\n",
    "x = maths.difference(history)      # output only 1st set value differnce from 2nd set\n",
    "print(x)\n",
    "w = history.difference(maths)\n",
    "print(w)\n",
    "v= history.symmetric_difference(maths)    #returns value other than union\n",
    "print(v)\n",
    "u = maths.update(history)\n",
    "print(maths)\n",
    "\n"
   ]
  },
  {
   "cell_type": "code",
   "execution_count": 32,
   "id": "72e62c09",
   "metadata": {},
   "outputs": [
    {
     "name": "stdout",
     "output_type": "stream",
     "text": [
      "{'jyoti', 'suleman', 'preeti'}\n",
      "{'sharma', 'abubaker', 'hari', 'verma', 'jyoti', 'mumshad', 'suleman', 'preeti', 'kazi'}\n"
     ]
    }
   ],
   "source": [
    "name= {'suleman', 'preeti', 'jyoti'}\n",
    "surname = {'kazi','sharma','verma'}\n",
    "middle = {'abubaker','mumshad','hari'}\n",
    "#name.update(surname)\n",
    "print(name)\n",
    "import itertools \n",
    "a = set(itertools.chain(name,surname,middle))\n",
    "print(a)"
   ]
  },
  {
   "cell_type": "code",
   "execution_count": 33,
   "id": "6d46e922",
   "metadata": {},
   "outputs": [
    {
     "name": "stdout",
     "output_type": "stream",
     "text": [
      "{'jyoti', 'mumshad', 'suleman', 'abubaker', 'hari', 'preeti'}\n"
     ]
    }
   ],
   "source": [
    "import operator\n",
    "from functools import reduce      #functool and reduce is library\n",
    "print(reduce(operator.or_,[name,middle])) #or is unioun (simple union in 2 sets we are doing)"
   ]
  },
  {
   "cell_type": "code",
   "execution_count": 4,
   "id": "0079b1df",
   "metadata": {},
   "outputs": [
    {
     "name": "stdout",
     "output_type": "stream",
     "text": [
      "{'jyoti', 'suleman', 'preeti'}\n"
     ]
    }
   ],
   "source": [
    "name= {'suleman', 'preeti', 'jyoti'}\n",
    "surname = {'kazi','sharma','verma'}\n",
    "name | surname\n",
    "print(name)\n",
    "\n"
   ]
  },
  {
   "cell_type": "code",
   "execution_count": 5,
   "id": "8cb632a2",
   "metadata": {},
   "outputs": [
    {
     "name": "stdout",
     "output_type": "stream",
     "text": [
      "{'Akazh': 123, 'Vinod': 143, 'Aniket': 567}\n"
     ]
    },
    {
     "data": {
      "text/plain": [
       "dict"
      ]
     },
     "execution_count": 5,
     "metadata": {},
     "output_type": "execute_result"
    }
   ],
   "source": [
    "#Directory\n",
    "directory = {\"Akazh\":123, \"Vinod\":143, \"Aniket\":567}\n",
    "print(directory)\n",
    "type(directory)\n",
    "\n"
   ]
  },
  {
   "cell_type": "code",
   "execution_count": 7,
   "id": "da9d644b",
   "metadata": {},
   "outputs": [],
   "source": [
    "directory[\"Akazh\"];\n",
    "\n",
    "\n"
   ]
  },
  {
   "cell_type": "code",
   "execution_count": null,
   "id": "11743c5c",
   "metadata": {},
   "outputs": [],
   "source": [
    "directory[\"Vinod\"]\n"
   ]
  },
  {
   "cell_type": "code",
   "execution_count": null,
   "id": "a125cfc7",
   "metadata": {},
   "outputs": [],
   "source": [
    "\n",
    "directory[\"Aniket\"]\n"
   ]
  },
  {
   "cell_type": "code",
   "execution_count": 8,
   "id": "2da70727",
   "metadata": {},
   "outputs": [
    {
     "data": {
      "text/plain": [
       "'talk'"
      ]
     },
     "execution_count": 8,
     "metadata": {},
     "output_type": "execute_result"
    }
   ],
   "source": [
    "vocabulary = {'see':'watch','listen':'hear','speak':'talk','move':'shift'}\n",
    "\n",
    "vocabulary['see']\n",
    "\n"
   ]
  },
  {
   "cell_type": "code",
   "execution_count": 9,
   "id": "35d063c2",
   "metadata": {},
   "outputs": [
    {
     "data": {
      "text/plain": [
       "'hear'"
      ]
     },
     "execution_count": 9,
     "metadata": {},
     "output_type": "execute_result"
    }
   ],
   "source": [
    "vocabulary['listen']\n",
    "\n"
   ]
  },
  {
   "cell_type": "code",
   "execution_count": 10,
   "id": "13837582",
   "metadata": {},
   "outputs": [
    {
     "data": {
      "text/plain": [
       "'talk'"
      ]
     },
     "execution_count": 10,
     "metadata": {},
     "output_type": "execute_result"
    }
   ],
   "source": [
    "vocabulary['speak']"
   ]
  },
  {
   "cell_type": "code",
   "execution_count": 11,
   "id": "93c69225",
   "metadata": {},
   "outputs": [],
   "source": [
    "data = {'name':['a,v,c'],'email':('a@a.com','b@b.com'),'id':'10168'}"
   ]
  },
  {
   "cell_type": "code",
   "execution_count": 17,
   "id": "4a965035",
   "metadata": {},
   "outputs": [
    {
     "data": {
      "text/plain": [
       "['a,v,c']"
      ]
     },
     "execution_count": 17,
     "metadata": {},
     "output_type": "execute_result"
    }
   ],
   "source": [
    "data['name']"
   ]
  },
  {
   "cell_type": "code",
   "execution_count": 20,
   "id": "d25f2bdd",
   "metadata": {},
   "outputs": [
    {
     "name": "stdout",
     "output_type": "stream",
     "text": [
      "dict_keys(['name', 'email', 'id'])\n"
     ]
    }
   ],
   "source": [
    "print(data.keys())"
   ]
  },
  {
   "cell_type": "code",
   "execution_count": 21,
   "id": "29e1e024",
   "metadata": {},
   "outputs": [
    {
     "name": "stdout",
     "output_type": "stream",
     "text": [
      "dict_values([['a,v,c'], ('a@a.com', 'b@b.com'), '10168'])\n"
     ]
    }
   ],
   "source": [
    "print(data.values())"
   ]
  },
  {
   "cell_type": "code",
   "execution_count": 22,
   "id": "225c6e0a",
   "metadata": {},
   "outputs": [
    {
     "name": "stdout",
     "output_type": "stream",
     "text": [
      "dict_items([('name', ['a,v,c']), ('email', ('a@a.com', 'b@b.com')), ('id', '10168')])\n"
     ]
    }
   ],
   "source": [
    "print(data.items()) #Returns List of pair of tuples"
   ]
  },
  {
   "cell_type": "code",
   "execution_count": 23,
   "id": "297a178d",
   "metadata": {},
   "outputs": [
    {
     "data": {
      "text/plain": [
       "['a,v,c']"
      ]
     },
     "execution_count": 23,
     "metadata": {},
     "output_type": "execute_result"
    }
   ],
   "source": [
    "data.pop('name')"
   ]
  },
  {
   "cell_type": "code",
   "execution_count": 24,
   "id": "7d4694b6",
   "metadata": {},
   "outputs": [
    {
     "name": "stdout",
     "output_type": "stream",
     "text": [
      "{'email': ('a@a.com', 'b@b.com'), 'id': '10168'}\n"
     ]
    }
   ],
   "source": [
    "print(data)"
   ]
  },
  {
   "cell_type": "code",
   "execution_count": 25,
   "id": "c0578781",
   "metadata": {},
   "outputs": [],
   "source": [
    "data['name']='a,v,c'"
   ]
  },
  {
   "cell_type": "code",
   "execution_count": 26,
   "id": "8bd22ba7",
   "metadata": {},
   "outputs": [
    {
     "name": "stdout",
     "output_type": "stream",
     "text": [
      "{'email': ('a@a.com', 'b@b.com'), 'id': '10168', 'name': 'a,v,c'}\n"
     ]
    }
   ],
   "source": [
    "print(data)"
   ]
  },
  {
   "cell_type": "code",
   "execution_count": 31,
   "id": "db08db30",
   "metadata": {},
   "outputs": [
    {
     "name": "stdout",
     "output_type": "stream",
     "text": [
      "<class 'dict'>\n"
     ]
    }
   ],
   "source": [
    "print(type(data))"
   ]
  },
  {
   "cell_type": "code",
   "execution_count": 37,
   "id": "5dfde1c2",
   "metadata": {},
   "outputs": [
    {
     "name": "stdout",
     "output_type": "stream",
     "text": [
      "('jyoti', 'suleman', 'preeti', 'verma', 'sharma', 'kazi')\n"
     ]
    },
    {
     "data": {
      "text/plain": [
       "tuple"
      ]
     },
     "execution_count": 37,
     "metadata": {},
     "output_type": "execute_result"
    }
   ],
   "source": [
    "name= {'suleman', 'preeti', 'jyoti'}\n",
    "surname = {'kazi','sharma','verma'}\n",
    "middle = {'abubaker','mumshad','hari'}\n",
    "employee = (*name,*surname)                  #*convert set to tuple for faster processing\n",
    "print(employee)\n",
    "type(employee)"
   ]
  },
  {
   "cell_type": "code",
   "execution_count": 44,
   "id": "1a620476",
   "metadata": {},
   "outputs": [
    {
     "name": "stdout",
     "output_type": "stream",
     "text": [
      "<class 'set'>\n"
     ]
    }
   ],
   "source": [
    "print(type(name))"
   ]
  },
  {
   "cell_type": "code",
   "execution_count": 47,
   "id": "d519199f",
   "metadata": {},
   "outputs": [
    {
     "name": "stdout",
     "output_type": "stream",
     "text": [
      "10\n",
      "20\n"
     ]
    }
   ],
   "source": [
    "#loops\n",
    "a= 10; b=20\n",
    "print(a)\n",
    "print(b)\n"
   ]
  },
  {
   "cell_type": "code",
   "execution_count": 67,
   "id": "13283287",
   "metadata": {},
   "outputs": [
    {
     "name": "stdout",
     "output_type": "stream",
     "text": [
      "num2 is equal to num1\n"
     ]
    }
   ],
   "source": [
    "nums1 = 50\n",
    "nums2 = 50\n",
    "if nums1>nums2:\n",
    "    temp = nums1-nums2\n",
    "    print('num1 is greater than num2')\n",
    "    print(temp)\n",
    "elif nums2==nums1:\n",
    "     print('num2 is equal to num1')\n",
    "else:\n",
    "    temp = nums1+nums2\n",
    "    print('num2 is greater than num1')\n",
    "    print(temp)\n"
   ]
  },
  {
   "cell_type": "code",
   "execution_count": 63,
   "id": "07f6917f",
   "metadata": {},
   "outputs": [
    {
     "name": "stdout",
     "output_type": "stream",
     "text": [
      "Enter amaount here:12\n"
     ]
    }
   ],
   "source": [
    "amount = int(input(\"Enter amaount here:\"))\n",
    "balance = 100\n"
   ]
  },
  {
   "cell_type": "code",
   "execution_count": null,
   "id": "eafed5c5",
   "metadata": {},
   "outputs": [],
   "source": [
    "amount = int(input('Enter amount here:'))\n",
    "balance = 100\n",
    "if amount > 0:\n",
    "    print('Welcome to our bank')\n",
    "    balance =+ amount\n",
    "    print('Amount you enter is {}\\n ')"
   ]
  },
  {
   "cell_type": "code",
   "execution_count": 72,
   "id": "57b0e453",
   "metadata": {},
   "outputs": [
    {
     "name": "stdout",
     "output_type": "stream",
     "text": [
      "a is greater than b\n"
     ]
    }
   ],
   "source": [
    "a = 5; b = 4\n",
    "print('a is smaller than b') if a < b else print('a is equal to b') if a == b else print('a is greater than b')"
   ]
  },
  {
   "cell_type": "code",
   "execution_count": 78,
   "id": "bea6209a",
   "metadata": {},
   "outputs": [
    {
     "name": "stdout",
     "output_type": "stream",
     "text": [
      "Enter a amount here:40\n",
      "Enter b amount here:50\n",
      "a is smaller than b\n"
     ]
    }
   ],
   "source": [
    "a = (); b = ()\n",
    "a = int(input('Enter a amount here:'))\n",
    "b = int(input('Enter b amount here:'))\n",
    "print('a is smaller than b') if a < b else print('a is equal to b') if a == b else print('a is greater than b')"
   ]
  },
  {
   "cell_type": "code",
   "execution_count": null,
   "id": "fe32ecfc",
   "metadata": {},
   "outputs": [],
   "source": []
  }
 ],
 "metadata": {
  "kernelspec": {
   "display_name": "Python 3 (ipykernel)",
   "language": "python",
   "name": "python3"
  },
  "language_info": {
   "codemirror_mode": {
    "name": "ipython",
    "version": 3
   },
   "file_extension": ".py",
   "mimetype": "text/x-python",
   "name": "python",
   "nbconvert_exporter": "python",
   "pygments_lexer": "ipython3",
   "version": "3.9.12"
  }
 },
 "nbformat": 4,
 "nbformat_minor": 5
}
