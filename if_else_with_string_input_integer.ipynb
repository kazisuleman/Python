{
  "cells": [
    {
      "cell_type": "code",
      "execution_count": 108,
      "id": "69cb1c02",
      "metadata": {
        "colab": {
          "base_uri": "https://localhost:8080/"
        },
        "id": "69cb1c02",
        "outputId": "d90b0df7-01a1-4e99-c046-0bc6e81bfa6f"
      },
      "outputs": [
        {
          "name": "stdout",
          "output_type": "stream",
          "text": [
            "10\n"
          ]
        }
      ],
      "source": [
        "a = int ; b = int; loop_a = False\n",
        "while not loop_a :\n",
        "  try:\n",
        "    a = int(input());\n",
        "    loop_a = True; \n",
        "  except ValueError:\n",
        "    print(\"value is not integer\");\n"
      ]
    },
    {
      "cell_type": "code",
      "source": [
        "print(a)"
      ],
      "metadata": {
        "colab": {
          "base_uri": "https://localhost:8080/"
        },
        "id": "qbH1LsvpKe8Q",
        "outputId": "5fd0427b-034b-4eef-8a60-eae7de122878"
      },
      "id": "qbH1LsvpKe8Q",
      "execution_count": 109,
      "outputs": [
        {
          "output_type": "stream",
          "name": "stdout",
          "text": [
            "10\n"
          ]
        }
      ]
    },
    {
      "cell_type": "code",
      "source": [
        "type(a)"
      ],
      "metadata": {
        "colab": {
          "base_uri": "https://localhost:8080/"
        },
        "id": "HmB7sbavMWbS",
        "outputId": "f3ae969f-91e9-4ff8-c2e1-7ef05131172a"
      },
      "id": "HmB7sbavMWbS",
      "execution_count": 110,
      "outputs": [
        {
          "output_type": "execute_result",
          "data": {
            "text/plain": [
              "int"
            ]
          },
          "metadata": {},
          "execution_count": 110
        }
      ]
    },
    {
      "cell_type": "code",
      "source": [
        "a = int ; b = int; loop_b = False\n",
        "while not loop_b:\n",
        "  try:\n",
        "    b = int(input());\n",
        "    loop_b = True;\n",
        "  except ValueError:\n",
        "    print(\"value is not integer\");\n"
      ],
      "metadata": {
        "colab": {
          "base_uri": "https://localhost:8080/"
        },
        "id": "WfQNhVfHQjpV",
        "outputId": "b8e809c9-136f-4eab-b334-398148718fe0"
      },
      "id": "WfQNhVfHQjpV",
      "execution_count": 111,
      "outputs": [
        {
          "name": "stdout",
          "output_type": "stream",
          "text": [
            "20\n"
          ]
        }
      ]
    },
    {
      "cell_type": "code",
      "source": [
        "print(b)"
      ],
      "metadata": {
        "colab": {
          "base_uri": "https://localhost:8080/"
        },
        "id": "UKBVMTuJLUDJ",
        "outputId": "24e9bc88-c817-4b1f-a276-e2d0a7d1f600"
      },
      "id": "UKBVMTuJLUDJ",
      "execution_count": 112,
      "outputs": [
        {
          "output_type": "stream",
          "name": "stdout",
          "text": [
            "20\n"
          ]
        }
      ]
    },
    {
      "cell_type": "code",
      "source": [
        "type(b)"
      ],
      "metadata": {
        "colab": {
          "base_uri": "https://localhost:8080/"
        },
        "id": "1ZyL3gimNmAb",
        "outputId": "9a4c98c5-8abe-4443-c1d5-dbcd18b72186"
      },
      "id": "1ZyL3gimNmAb",
      "execution_count": 113,
      "outputs": [
        {
          "output_type": "execute_result",
          "data": {
            "text/plain": [
              "int"
            ]
          },
          "metadata": {},
          "execution_count": 113
        }
      ]
    },
    {
      "cell_type": "code",
      "execution_count": 117,
      "id": "5519db02",
      "metadata": {
        "scrolled": true,
        "colab": {
          "base_uri": "https://localhost:8080/"
        },
        "id": "5519db02",
        "outputId": "9ca48316-4d8b-4684-a48d-6f031fbd8c1d"
      },
      "outputs": [
        {
          "output_type": "stream",
          "name": "stdout",
          "text": [
            "a is greater than b\n"
          ]
        }
      ],
      "source": [
        "if (str(a) < str(b)):\n",
        "    \n",
        "    print(\"a is smaller than b\")\n",
        "\n",
        "elif (str(a) == str(b)):\n",
        "    print(\"a is equal to b\")\n",
        "\n",
        "else:\n",
        "    print(\"a is greater than b\")"
      ]
    },
    {
      "cell_type": "code",
      "execution_count": null,
      "id": "7e4e5736",
      "metadata": {
        "id": "7e4e5736"
      },
      "outputs": [],
      "source": [
        "Shahruk = \"king\"\n"
      ]
    }
  ],
  "metadata": {
    "kernelspec": {
      "display_name": "Python 3 (ipykernel)",
      "language": "python",
      "name": "python3"
    },
    "language_info": {
      "codemirror_mode": {
        "name": "ipython",
        "version": 3
      },
      "file_extension": ".py",
      "mimetype": "text/x-python",
      "name": "python",
      "nbconvert_exporter": "python",
      "pygments_lexer": "ipython3",
      "version": "3.9.12"
    },
    "colab": {
      "provenance": [],
      "collapsed_sections": []
    }
  },
  "nbformat": 4,
  "nbformat_minor": 5
}